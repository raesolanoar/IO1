{
  "nbformat": 4,
  "nbformat_minor": 0,
  "metadata": {
    "colab": {
      "provenance": [],
      "authorship_tag": "ABX9TyOe4PK9iP+7LUHxTooW4squ",
      "include_colab_link": true
    },
    "kernelspec": {
      "name": "python3",
      "display_name": "Python 3"
    },
    "language_info": {
      "name": "python"
    }
  },
  "cells": [
    {
      "cell_type": "markdown",
      "metadata": {
        "id": "view-in-github",
        "colab_type": "text"
      },
      "source": [
        "<a href=\"https://colab.research.google.com/github/raesolanoar/IO1/blob/main/Taller_00_Rafa.ipynb\" target=\"_parent\"><img src=\"https://colab.research.google.com/assets/colab-badge.svg\" alt=\"Open In Colab\"/></a>"
      ]
    },
    {
      "cell_type": "code",
      "execution_count": null,
      "metadata": {
        "colab": {
          "base_uri": "https://localhost:8080/"
        },
        "id": "ePholO4wma5Z",
        "outputId": "2486aec4-fa06-40c8-ccc9-89ee4ddcddd2"
      },
      "outputs": [
        {
          "output_type": "stream",
          "name": "stdout",
          "text": [
            "Collecting tutormagic\n",
            "  Downloading tutormagic-0.3.1-py3-none-any.whl (6.3 kB)\n",
            "Collecting jupyter>=1.0 (from tutormagic)\n",
            "  Downloading jupyter-1.0.0-py2.py3-none-any.whl (2.7 kB)\n",
            "Requirement already satisfied: notebook in /usr/local/lib/python3.10/dist-packages (from jupyter>=1.0->tutormagic) (6.4.8)\n",
            "Collecting qtconsole (from jupyter>=1.0->tutormagic)\n",
            "  Downloading qtconsole-5.4.3-py3-none-any.whl (121 kB)\n",
            "\u001b[2K     \u001b[90m━━━━━━━━━━━━━━━━━━━━━━━━━━━━━━━━━━━━━━━\u001b[0m \u001b[32m121.9/121.9 kB\u001b[0m \u001b[31m2.5 MB/s\u001b[0m eta \u001b[36m0:00:00\u001b[0m\n",
            "\u001b[?25hRequirement already satisfied: jupyter-console in /usr/local/lib/python3.10/dist-packages (from jupyter>=1.0->tutormagic) (6.1.0)\n",
            "Requirement already satisfied: nbconvert in /usr/local/lib/python3.10/dist-packages (from jupyter>=1.0->tutormagic) (6.5.4)\n",
            "Requirement already satisfied: ipykernel in /usr/local/lib/python3.10/dist-packages (from jupyter>=1.0->tutormagic) (5.5.6)\n",
            "Requirement already satisfied: ipywidgets in /usr/local/lib/python3.10/dist-packages (from jupyter>=1.0->tutormagic) (7.7.1)\n",
            "Requirement already satisfied: ipython-genutils in /usr/local/lib/python3.10/dist-packages (from ipykernel->jupyter>=1.0->tutormagic) (0.2.0)\n",
            "Requirement already satisfied: ipython>=5.0.0 in /usr/local/lib/python3.10/dist-packages (from ipykernel->jupyter>=1.0->tutormagic) (7.34.0)\n",
            "Requirement already satisfied: traitlets>=4.1.0 in /usr/local/lib/python3.10/dist-packages (from ipykernel->jupyter>=1.0->tutormagic) (5.7.1)\n",
            "Requirement already satisfied: jupyter-client in /usr/local/lib/python3.10/dist-packages (from ipykernel->jupyter>=1.0->tutormagic) (6.1.12)\n",
            "Requirement already satisfied: tornado>=4.2 in /usr/local/lib/python3.10/dist-packages (from ipykernel->jupyter>=1.0->tutormagic) (6.3.1)\n",
            "Requirement already satisfied: widgetsnbextension~=3.6.0 in /usr/local/lib/python3.10/dist-packages (from ipywidgets->jupyter>=1.0->tutormagic) (3.6.5)\n",
            "Requirement already satisfied: jupyterlab-widgets>=1.0.0 in /usr/local/lib/python3.10/dist-packages (from ipywidgets->jupyter>=1.0->tutormagic) (3.0.8)\n",
            "Requirement already satisfied: prompt-toolkit!=3.0.0,!=3.0.1,<3.1.0,>=2.0.0 in /usr/local/lib/python3.10/dist-packages (from jupyter-console->jupyter>=1.0->tutormagic) (3.0.39)\n",
            "Requirement already satisfied: pygments in /usr/local/lib/python3.10/dist-packages (from jupyter-console->jupyter>=1.0->tutormagic) (2.16.1)\n",
            "Requirement already satisfied: lxml in /usr/local/lib/python3.10/dist-packages (from nbconvert->jupyter>=1.0->tutormagic) (4.9.3)\n",
            "Requirement already satisfied: beautifulsoup4 in /usr/local/lib/python3.10/dist-packages (from nbconvert->jupyter>=1.0->tutormagic) (4.11.2)\n",
            "Requirement already satisfied: bleach in /usr/local/lib/python3.10/dist-packages (from nbconvert->jupyter>=1.0->tutormagic) (6.0.0)\n",
            "Requirement already satisfied: defusedxml in /usr/local/lib/python3.10/dist-packages (from nbconvert->jupyter>=1.0->tutormagic) (0.7.1)\n",
            "Requirement already satisfied: entrypoints>=0.2.2 in /usr/local/lib/python3.10/dist-packages (from nbconvert->jupyter>=1.0->tutormagic) (0.4)\n",
            "Requirement already satisfied: jinja2>=3.0 in /usr/local/lib/python3.10/dist-packages (from nbconvert->jupyter>=1.0->tutormagic) (3.1.2)\n",
            "Requirement already satisfied: jupyter-core>=4.7 in /usr/local/lib/python3.10/dist-packages (from nbconvert->jupyter>=1.0->tutormagic) (5.3.1)\n",
            "Requirement already satisfied: jupyterlab-pygments in /usr/local/lib/python3.10/dist-packages (from nbconvert->jupyter>=1.0->tutormagic) (0.2.2)\n",
            "Requirement already satisfied: MarkupSafe>=2.0 in /usr/local/lib/python3.10/dist-packages (from nbconvert->jupyter>=1.0->tutormagic) (2.1.3)\n",
            "Requirement already satisfied: mistune<2,>=0.8.1 in /usr/local/lib/python3.10/dist-packages (from nbconvert->jupyter>=1.0->tutormagic) (0.8.4)\n",
            "Requirement already satisfied: nbclient>=0.5.0 in /usr/local/lib/python3.10/dist-packages (from nbconvert->jupyter>=1.0->tutormagic) (0.8.0)\n",
            "Requirement already satisfied: nbformat>=5.1 in /usr/local/lib/python3.10/dist-packages (from nbconvert->jupyter>=1.0->tutormagic) (5.9.2)\n",
            "Requirement already satisfied: packaging in /usr/local/lib/python3.10/dist-packages (from nbconvert->jupyter>=1.0->tutormagic) (23.1)\n",
            "Requirement already satisfied: pandocfilters>=1.4.1 in /usr/local/lib/python3.10/dist-packages (from nbconvert->jupyter>=1.0->tutormagic) (1.5.0)\n",
            "Requirement already satisfied: tinycss2 in /usr/local/lib/python3.10/dist-packages (from nbconvert->jupyter>=1.0->tutormagic) (1.2.1)\n",
            "Requirement already satisfied: pyzmq>=17 in /usr/local/lib/python3.10/dist-packages (from notebook->jupyter>=1.0->tutormagic) (23.2.1)\n",
            "Requirement already satisfied: argon2-cffi in /usr/local/lib/python3.10/dist-packages (from notebook->jupyter>=1.0->tutormagic) (21.3.0)\n",
            "Requirement already satisfied: nest-asyncio>=1.5 in /usr/local/lib/python3.10/dist-packages (from notebook->jupyter>=1.0->tutormagic) (1.5.7)\n",
            "Requirement already satisfied: Send2Trash>=1.8.0 in /usr/local/lib/python3.10/dist-packages (from notebook->jupyter>=1.0->tutormagic) (1.8.2)\n",
            "Requirement already satisfied: terminado>=0.8.3 in /usr/local/lib/python3.10/dist-packages (from notebook->jupyter>=1.0->tutormagic) (0.17.1)\n",
            "Requirement already satisfied: prometheus-client in /usr/local/lib/python3.10/dist-packages (from notebook->jupyter>=1.0->tutormagic) (0.17.1)\n",
            "Collecting qtpy>=2.0.1 (from qtconsole->jupyter>=1.0->tutormagic)\n",
            "  Downloading QtPy-2.3.1-py3-none-any.whl (84 kB)\n",
            "\u001b[2K     \u001b[90m━━━━━━━━━━━━━━━━━━━━━━━━━━━━━━━━━━━━━━━━\u001b[0m \u001b[32m84.9/84.9 kB\u001b[0m \u001b[31m5.6 MB/s\u001b[0m eta \u001b[36m0:00:00\u001b[0m\n",
            "\u001b[?25hRequirement already satisfied: setuptools>=18.5 in /usr/local/lib/python3.10/dist-packages (from ipython>=5.0.0->ipykernel->jupyter>=1.0->tutormagic) (67.7.2)\n",
            "Collecting jedi>=0.16 (from ipython>=5.0.0->ipykernel->jupyter>=1.0->tutormagic)\n",
            "  Downloading jedi-0.19.0-py2.py3-none-any.whl (1.6 MB)\n",
            "\u001b[2K     \u001b[90m━━━━━━━━━━━━━━━━━━━━━━━━━━━━━━━━━━━━━━━━\u001b[0m \u001b[32m1.6/1.6 MB\u001b[0m \u001b[31m34.0 MB/s\u001b[0m eta \u001b[36m0:00:00\u001b[0m\n",
            "\u001b[?25hRequirement already satisfied: decorator in /usr/local/lib/python3.10/dist-packages (from ipython>=5.0.0->ipykernel->jupyter>=1.0->tutormagic) (4.4.2)\n",
            "Requirement already satisfied: pickleshare in /usr/local/lib/python3.10/dist-packages (from ipython>=5.0.0->ipykernel->jupyter>=1.0->tutormagic) (0.7.5)\n",
            "Requirement already satisfied: backcall in /usr/local/lib/python3.10/dist-packages (from ipython>=5.0.0->ipykernel->jupyter>=1.0->tutormagic) (0.2.0)\n",
            "Requirement already satisfied: matplotlib-inline in /usr/local/lib/python3.10/dist-packages (from ipython>=5.0.0->ipykernel->jupyter>=1.0->tutormagic) (0.1.6)\n",
            "Requirement already satisfied: pexpect>4.3 in /usr/local/lib/python3.10/dist-packages (from ipython>=5.0.0->ipykernel->jupyter>=1.0->tutormagic) (4.8.0)\n",
            "Requirement already satisfied: python-dateutil>=2.1 in /usr/local/lib/python3.10/dist-packages (from jupyter-client->ipykernel->jupyter>=1.0->tutormagic) (2.8.2)\n",
            "Requirement already satisfied: platformdirs>=2.5 in /usr/local/lib/python3.10/dist-packages (from jupyter-core>=4.7->nbconvert->jupyter>=1.0->tutormagic) (3.10.0)\n",
            "Requirement already satisfied: fastjsonschema in /usr/local/lib/python3.10/dist-packages (from nbformat>=5.1->nbconvert->jupyter>=1.0->tutormagic) (2.18.0)\n",
            "Requirement already satisfied: jsonschema>=2.6 in /usr/local/lib/python3.10/dist-packages (from nbformat>=5.1->nbconvert->jupyter>=1.0->tutormagic) (4.19.0)\n",
            "Requirement already satisfied: wcwidth in /usr/local/lib/python3.10/dist-packages (from prompt-toolkit!=3.0.0,!=3.0.1,<3.1.0,>=2.0.0->jupyter-console->jupyter>=1.0->tutormagic) (0.2.6)\n",
            "Requirement already satisfied: ptyprocess in /usr/local/lib/python3.10/dist-packages (from terminado>=0.8.3->notebook->jupyter>=1.0->tutormagic) (0.7.0)\n",
            "Requirement already satisfied: argon2-cffi-bindings in /usr/local/lib/python3.10/dist-packages (from argon2-cffi->notebook->jupyter>=1.0->tutormagic) (21.2.0)\n",
            "Requirement already satisfied: soupsieve>1.2 in /usr/local/lib/python3.10/dist-packages (from beautifulsoup4->nbconvert->jupyter>=1.0->tutormagic) (2.4.1)\n",
            "Requirement already satisfied: six>=1.9.0 in /usr/local/lib/python3.10/dist-packages (from bleach->nbconvert->jupyter>=1.0->tutormagic) (1.16.0)\n",
            "Requirement already satisfied: webencodings in /usr/local/lib/python3.10/dist-packages (from bleach->nbconvert->jupyter>=1.0->tutormagic) (0.5.1)\n",
            "Requirement already satisfied: parso<0.9.0,>=0.8.3 in /usr/local/lib/python3.10/dist-packages (from jedi>=0.16->ipython>=5.0.0->ipykernel->jupyter>=1.0->tutormagic) (0.8.3)\n",
            "Requirement already satisfied: attrs>=22.2.0 in /usr/local/lib/python3.10/dist-packages (from jsonschema>=2.6->nbformat>=5.1->nbconvert->jupyter>=1.0->tutormagic) (23.1.0)\n",
            "Requirement already satisfied: jsonschema-specifications>=2023.03.6 in /usr/local/lib/python3.10/dist-packages (from jsonschema>=2.6->nbformat>=5.1->nbconvert->jupyter>=1.0->tutormagic) (2023.7.1)\n",
            "Requirement already satisfied: referencing>=0.28.4 in /usr/local/lib/python3.10/dist-packages (from jsonschema>=2.6->nbformat>=5.1->nbconvert->jupyter>=1.0->tutormagic) (0.30.2)\n",
            "Requirement already satisfied: rpds-py>=0.7.1 in /usr/local/lib/python3.10/dist-packages (from jsonschema>=2.6->nbformat>=5.1->nbconvert->jupyter>=1.0->tutormagic) (0.9.2)\n",
            "Requirement already satisfied: cffi>=1.0.1 in /usr/local/lib/python3.10/dist-packages (from argon2-cffi-bindings->argon2-cffi->notebook->jupyter>=1.0->tutormagic) (1.15.1)\n",
            "Requirement already satisfied: pycparser in /usr/local/lib/python3.10/dist-packages (from cffi>=1.0.1->argon2-cffi-bindings->argon2-cffi->notebook->jupyter>=1.0->tutormagic) (2.21)\n",
            "Installing collected packages: qtpy, jedi, qtconsole, jupyter, tutormagic\n",
            "Successfully installed jedi-0.19.0 jupyter-1.0.0 qtconsole-5.4.3 qtpy-2.3.1 tutormagic-0.3.1\n"
          ]
        }
      ],
      "source": [
        "#Instalar el tutormagic\n",
        "!pip install tutormagic\n",
        "\n",
        "#Carga la extension\n",
        "%load_ext tutormagic"
      ]
    },
    {
      "cell_type": "code",
      "source": [
        "#la primera línea activa el tutor magic para el ejemplo especifico\n",
        "%%tutor --lang python3 -s\n",
        "\n",
        "#Ejercicio de prueba de escritorio\n",
        "numero_1 = 9\n",
        "print(\"Mostrar el valor actual de numero_1:\", numero_1)\n",
        "numero_2 = 5\n",
        "print(\"Mostrar el producto de numero_1 por numero_2:\", numero_1 * numero_2)\n",
        "suma = numero_1 + numero_2\n",
        "div = suma / 4\n",
        "numero_1 = numero_1 - 2\n",
        "nuevo = numero_1 + (suma * 3)\n",
        "final = nuevo * (5 + numero_1)\n",
        "print(final)"
      ],
      "metadata": {
        "colab": {
          "base_uri": "https://localhost:8080/",
          "height": 426
        },
        "id": "hCIjAOIenajZ",
        "outputId": "c1ed4073-c64d-479c-aa48-7147c565344d"
      },
      "execution_count": null,
      "outputs": [
        {
          "output_type": "stream",
          "name": "stderr",
          "text": [
            "/usr/local/lib/python3.10/dist-packages/ipykernel/ipkernel.py:283: DeprecationWarning: `should_run_async` will not call `transform_cell` automatically in the future. Please pass the result to `transformed_cell` argument and any exception that happen during thetransform in `preprocessing_exc_tuple` in IPython 7.17 and above.\n",
            "  and should_run_async(code)\n"
          ]
        },
        {
          "output_type": "display_data",
          "data": {
            "text/plain": [
              "<IPython.lib.display.IFrame at 0x7972806b8ac0>"
            ],
            "text/html": [
              "\n",
              "        <iframe\n",
              "            width=\"100%\"\n",
              "            height=\"350\"\n",
              "            src=\"https://pythontutor.com/iframe-embed.html#code=%0A%23Ejercicio%20de%20prueba%20de%20escritorio%0Anumero_1%20%3D%209%0Aprint%28%22Mostrar%20el%20valor%20actual%20de%20numero_1%3A%22%2C%20numero_1%29%0Anumero_2%20%3D%205%0Aprint%28%22Mostrar%20el%20producto%20de%20numero_1%20por%20numero_2%3A%22%2C%20numero_1%20%2A%20numero_2%29%0Asuma%20%3D%20numero_1%20%2B%20numero_2%0Adiv%20%3D%20suma%20/%204%0Anumero_1%20%3D%20numero_1%20-%202%0Anuevo%20%3D%20numero_1%20%2B%20%28suma%20%2A%203%29%0Afinal%20%3D%20nuevo%20%2A%20%285%20%2B%20numero_1%29%0Aprint%28final%29%0A&origin=opt-frontend.js&cumulative=false&heapPrimitives=false&textReferences=false&curInstr=0&&verticalStack=false&py=3&rawInputLstJSON=%5B%5D&codeDivWidth=50%25&codeDivHeight=100%25\"\n",
              "            frameborder=\"0\"\n",
              "            allowfullscreen\n",
              "            \n",
              "        ></iframe>\n",
              "        "
            ]
          },
          "metadata": {}
        }
      ]
    },
    {
      "cell_type": "code",
      "source": [
        "# la primera linea activa el tutor magic para el ejemplo especifico\n",
        "%%tutor --lang python3 -s\n",
        "\n",
        "# mostrar un texto\n",
        "print(\"¡Me encanta programar!\")"
      ],
      "metadata": {
        "colab": {
          "base_uri": "https://localhost:8080/",
          "height": 426
        },
        "id": "wPW3WxB6rljc",
        "outputId": "9b7e1d95-992f-4007-f7d1-723613216d4a"
      },
      "execution_count": null,
      "outputs": [
        {
          "output_type": "stream",
          "name": "stderr",
          "text": [
            "/usr/local/lib/python3.10/dist-packages/ipykernel/ipkernel.py:283: DeprecationWarning: `should_run_async` will not call `transform_cell` automatically in the future. Please pass the result to `transformed_cell` argument and any exception that happen during thetransform in `preprocessing_exc_tuple` in IPython 7.17 and above.\n",
            "  and should_run_async(code)\n"
          ]
        },
        {
          "output_type": "display_data",
          "data": {
            "text/plain": [
              "<IPython.lib.display.IFrame at 0x7972805da7d0>"
            ],
            "text/html": [
              "\n",
              "        <iframe\n",
              "            width=\"100%\"\n",
              "            height=\"350\"\n",
              "            src=\"https://pythontutor.com/iframe-embed.html#code=%0A%23%20mostrar%20un%20texto%0Aprint%28%22%C2%A1Me%20encanta%20programar%21%22%29%0A&origin=opt-frontend.js&cumulative=false&heapPrimitives=false&textReferences=false&curInstr=0&&verticalStack=false&py=3&rawInputLstJSON=%5B%5D&codeDivWidth=50%25&codeDivHeight=100%25\"\n",
              "            frameborder=\"0\"\n",
              "            allowfullscreen\n",
              "            \n",
              "        ></iframe>\n",
              "        "
            ]
          },
          "metadata": {}
        }
      ]
    },
    {
      "cell_type": "code",
      "source": [
        "\n",
        "# la primera linea activa el tutor magic para el ejemplo especifico\n",
        "%%tutor --lang python3 -s\n",
        "\n",
        "#programa para calcular el área de un rectángulo\n",
        "\n",
        "#creacion de la variable base y asignación de un valor a dicha variable\n",
        "base = 5\n",
        "\n",
        "#creación de la variable altura y asignación de un valor de dicha variable\n",
        "altura = 3.14\n",
        "\n",
        "#cálculo dek aérea del rectángulo\n",
        "area = base * altura\n",
        "\n",
        "# mostrar el resultado en pantalla\n",
        "print(\"El área del rectángulo es:\", area)"
      ],
      "metadata": {
        "colab": {
          "base_uri": "https://localhost:8080/",
          "height": 426
        },
        "id": "78lhI4uwsDtu",
        "outputId": "23cab389-7c46-4f24-9240-ec589039c87f"
      },
      "execution_count": null,
      "outputs": [
        {
          "output_type": "stream",
          "name": "stderr",
          "text": [
            "/usr/local/lib/python3.10/dist-packages/ipykernel/ipkernel.py:283: DeprecationWarning: `should_run_async` will not call `transform_cell` automatically in the future. Please pass the result to `transformed_cell` argument and any exception that happen during thetransform in `preprocessing_exc_tuple` in IPython 7.17 and above.\n",
            "  and should_run_async(code)\n"
          ]
        },
        {
          "output_type": "display_data",
          "data": {
            "text/plain": [
              "<IPython.lib.display.IFrame at 0x7972806b8850>"
            ],
            "text/html": [
              "\n",
              "        <iframe\n",
              "            width=\"100%\"\n",
              "            height=\"350\"\n",
              "            src=\"https://pythontutor.com/iframe-embed.html#code=%0A%23programa%20para%20calcular%20el%20%C3%A1rea%20de%20un%20rect%C3%A1ngulo%0A%0A%23creacion%20de%20la%20variable%20base%20y%20asignaci%C3%B3n%20de%20un%20valor%20a%20dicha%20variable%0Abase%20%3D%205%0A%0A%23creaci%C3%B3n%20de%20la%20variable%20altura%20y%20asignaci%C3%B3n%20de%20un%20valor%20de%20dicha%20variable%0Aaltura%20%3D%203.14%0A%0A%23c%C3%A1lculo%20dek%20a%C3%A9rea%20del%20rect%C3%A1ngulo%0Aarea%20%3D%20base%20%2A%20altura%0A%0A%23%20mostrar%20el%20resultado%20en%20pantalla%0Aprint%28%22El%20%C3%A1rea%20del%20rect%C3%A1ngulo%20es%3A%22%2C%20area%29%0A&origin=opt-frontend.js&cumulative=false&heapPrimitives=false&textReferences=false&curInstr=0&&verticalStack=false&py=3&rawInputLstJSON=%5B%5D&codeDivWidth=50%25&codeDivHeight=100%25\"\n",
              "            frameborder=\"0\"\n",
              "            allowfullscreen\n",
              "            \n",
              "        ></iframe>\n",
              "        "
            ]
          },
          "metadata": {}
        }
      ]
    },
    {
      "cell_type": "code",
      "source": [
        "# la primera línea activa el tutor magic para el ejemplo especifico\n",
        "%%tutor --lang python3 -s\n",
        "\n",
        "#programa para dividir dos números y mostrar el resultado en pantalla\n",
        "\n",
        "#creacion de dos variables y asignacion de valores\n",
        "a = 10\n",
        "b = 3\n",
        "\n",
        "#cálculo de la division entre a y b\n",
        "\n",
        "div = a / b\n",
        "\n",
        "#mostrar el resultado en pantalla. Observe que los textos van entre comillas\n",
        "#pero los nombres de las variables van sin comillas\n",
        "print(\"El resultado de dividir \", a, \"por  \", b, \"es: \", div)\n",
        "\n",
        "#si se quiere mostrar un número determinado de decimales es necesario ajustar la instruccion anterior\n",
        "\n",
        "#mostrar el resultado con dos decimales\n",
        "print(\"El resultado de dividir \", a, \"por  \", b, \"aproximado a dos decimales es: \", \"%.2f\"% div)\n",
        "\n",
        "#mostrar el resultado con quince decimales\n",
        "print(\"El resultado de dividir \", a, \"por  \", b, \"aproximado a quince decimales es \", \"%.15f\"% div)\n",
        "\n",
        "#mostrar el resultado con veinte decimales\n",
        "print(\"El resultado de dividir \", a, \"por  \", b, \"aproximado a veinte decimales es \", \"%.20f\"% div)"
      ],
      "metadata": {
        "colab": {
          "base_uri": "https://localhost:8080/",
          "height": 426
        },
        "id": "HKGIAGvBxK05",
        "outputId": "8c03e128-e4d0-4e94-8fbd-0d7354078d7f"
      },
      "execution_count": null,
      "outputs": [
        {
          "output_type": "stream",
          "name": "stderr",
          "text": [
            "/usr/local/lib/python3.10/dist-packages/ipykernel/ipkernel.py:283: DeprecationWarning: `should_run_async` will not call `transform_cell` automatically in the future. Please pass the result to `transformed_cell` argument and any exception that happen during thetransform in `preprocessing_exc_tuple` in IPython 7.17 and above.\n",
            "  and should_run_async(code)\n"
          ]
        },
        {
          "output_type": "display_data",
          "data": {
            "text/plain": [
              "<IPython.lib.display.IFrame at 0x7972805db460>"
            ],
            "text/html": [
              "\n",
              "        <iframe\n",
              "            width=\"100%\"\n",
              "            height=\"350\"\n",
              "            src=\"https://pythontutor.com/iframe-embed.html#code=%0A%23programa%20para%20dividir%20dos%20n%C3%BAmeros%20y%20mostrar%20el%20resultado%20en%20pantalla%0A%0A%23creacion%20de%20dos%20variables%20y%20asignacion%20de%20valores%0Aa%20%3D%2010%0Ab%20%3D%203%0A%0A%23c%C3%A1lculo%20de%20la%20division%20entre%20a%20y%20b%0A%0Adiv%20%3D%20a%20/%20b%0A%0A%23mostrar%20el%20resultado%20en%20pantalla.%20Observe%20que%20los%20textos%20van%20entre%20comillas%0A%23pero%20los%20nombres%20de%20las%20variables%20van%20sin%20comillas%0Aprint%28%22El%20resultado%20de%20dividir%20%22%2C%20a%2C%20%22por%20%20%22%2C%20b%2C%20%22es%3A%20%22%2C%20div%29%0A%0A%23si%20se%20quiere%20mostrar%20un%20n%C3%BAmero%20determinado%20de%20decimales%20es%20necesario%20ajustar%20la%20instruccion%20anterior%0A%0A%23mostrar%20el%20resultado%20con%20dos%20decimales%0Aprint%28%22El%20resultado%20de%20dividir%20%22%2C%20a%2C%20%22por%20%20%22%2C%20b%2C%20%22aproximado%20a%20dos%20decimales%20es%3A%20%22%2C%20%22%25.2f%22%25%20div%29%0A%0A%23mostrar%20el%20resultado%20con%20quince%20decimales%0Aprint%28%22El%20resultado%20de%20dividir%20%22%2C%20a%2C%20%22por%20%20%22%2C%20b%2C%20%22aproximado%20a%20quince%20decimales%20es%20%22%2C%20%22%25.15f%22%25%20div%29%0A%0A%23mostrar%20el%20resultado%20con%20veinte%20decimales%0Aprint%28%22El%20resultado%20de%20dividir%20%22%2C%20a%2C%20%22por%20%20%22%2C%20b%2C%20%22aproximado%20a%20veinte%20decimales%20es%20%22%2C%20%22%25.20f%22%25%20div%29%0A&origin=opt-frontend.js&cumulative=false&heapPrimitives=false&textReferences=false&curInstr=0&&verticalStack=false&py=3&rawInputLstJSON=%5B%5D&codeDivWidth=50%25&codeDivHeight=100%25\"\n",
              "            frameborder=\"0\"\n",
              "            allowfullscreen\n",
              "            \n",
              "        ></iframe>\n",
              "        "
            ]
          },
          "metadata": {}
        }
      ]
    },
    {
      "cell_type": "code",
      "source": [
        "\n",
        "\n",
        "#compare y analice los siguientes resultados\n",
        "x = 4503599627370495.7\n",
        "y = 4503599627370495.7\n",
        "\n",
        "print(\"¿Es x un entero? \", x.is_integer())\n",
        "\n",
        "print(\"¿Es y un entero? \", y.is_integer())\n",
        "\n",
        "print(\"¿cuanto es la diferencia entre x y y?\", y-x, \"\\n\")\n",
        "\n",
        "#observe la evolucion de estos resultados\n",
        "for i in range (0,20):\n",
        "  h = (10**i) + 0.1\n",
        "  print(\"¿Es \", h, \"un entero? \", h.is_integer(), \"\\n\")"
      ],
      "metadata": {
        "colab": {
          "base_uri": "https://localhost:8080/"
        },
        "id": "tIv3AhG00UJf",
        "outputId": "abecfc97-8993-4219-9d90-31b429a3c957"
      },
      "execution_count": null,
      "outputs": [
        {
          "output_type": "stream",
          "name": "stdout",
          "text": [
            "¿Es x un entero?  False\n",
            "¿Es y un entero?  False\n",
            "¿cuanto es la diferencia entre x y y? 0.0 \n",
            "\n",
            "¿Es  1.1 un entero?  False \n",
            "\n",
            "¿Es  10.1 un entero?  False \n",
            "\n",
            "¿Es  100.1 un entero?  False \n",
            "\n",
            "¿Es  1000.1 un entero?  False \n",
            "\n",
            "¿Es  10000.1 un entero?  False \n",
            "\n",
            "¿Es  100000.1 un entero?  False \n",
            "\n",
            "¿Es  1000000.1 un entero?  False \n",
            "\n",
            "¿Es  10000000.1 un entero?  False \n",
            "\n",
            "¿Es  100000000.1 un entero?  False \n",
            "\n",
            "¿Es  1000000000.1 un entero?  False \n",
            "\n",
            "¿Es  10000000000.1 un entero?  False \n",
            "\n",
            "¿Es  100000000000.1 un entero?  False \n",
            "\n",
            "¿Es  1000000000000.1 un entero?  False \n",
            "\n",
            "¿Es  10000000000000.1 un entero?  False \n",
            "\n",
            "¿Es  100000000000000.1 un entero?  False \n",
            "\n",
            "¿Es  1000000000000000.1 un entero?  False \n",
            "\n",
            "¿Es  1e+16 un entero?  True \n",
            "\n",
            "¿Es  1e+17 un entero?  True \n",
            "\n",
            "¿Es  1e+18 un entero?  True \n",
            "\n",
            "¿Es  1e+19 un entero?  True \n",
            "\n"
          ]
        }
      ]
    },
    {
      "cell_type": "markdown",
      "source": [
        "ingresar info"
      ],
      "metadata": {
        "id": "lo5YkmwLk9v5"
      }
    },
    {
      "cell_type": "code",
      "source": [
        "\n",
        "\n",
        "#programa para ingresar una informacion\n",
        "\n",
        "#creacion de la variable créditos y asignación de un valor\n",
        "creditos = input (\"¿Cuántos créditos matriculaste este semestre?: \")\n",
        "\n",
        "#mostrar en pantalla los créditos\n",
        "print(\"Matriculaste\", creditos, \"créditos este semestre.\")"
      ],
      "metadata": {
        "colab": {
          "base_uri": "https://localhost:8080/"
        },
        "id": "fMUIDFUjlAjp",
        "outputId": "6657fa95-8075-48d1-ddd7-b85f1ab95239"
      },
      "execution_count": null,
      "outputs": [
        {
          "output_type": "stream",
          "name": "stdout",
          "text": [
            "¿Cuántos créditos matriculaste este semestre?: 17\n",
            "Matriculaste 17 créditos este semestre.\n"
          ]
        }
      ]
    },
    {
      "cell_type": "markdown",
      "source": [
        "conversion entre tipos de datos"
      ],
      "metadata": {
        "id": "-fDmTsZXlrpp"
      }
    },
    {
      "cell_type": "code",
      "source": [
        "#programa para ingresar un valor y hacer un cálculo a partir de ese valor\n",
        "\n",
        "#creacion de la variable número y asignación de valor\n",
        "original = input(\"Por favor ingrese un número: \")\n",
        "\n",
        "#convertir la cadena de texto en un número real\n",
        "original = float(original)\n",
        "\n",
        "#calcular el numero elevado al cubo\n",
        "cubo = original**3\n",
        "\n",
        "#mostrar el resultado en pantalla\n",
        "print(\"El cubo de \", original., \"es \", cubo)"
      ],
      "metadata": {
        "colab": {
          "base_uri": "https://localhost:8080/"
        },
        "id": "tV8uxy9Tltrh",
        "outputId": "a1133092-fe96-44a9-ef64-992beed270e4"
      },
      "execution_count": null,
      "outputs": [
        {
          "output_type": "stream",
          "name": "stdout",
          "text": [
            "Por favor ingrese un número: 8\n",
            "La raíz cúbica de  8.0 es  512.0\n"
          ]
        }
      ]
    },
    {
      "cell_type": "markdown",
      "source": [
        "Listas"
      ],
      "metadata": {
        "id": "SYbgZHpinw5Z"
      }
    },
    {
      "cell_type": "code",
      "source": [
        "#programa que crea una lista y muestra su contenido\n",
        "\n",
        "#creación de la lista y asignación de contenido\n",
        "datos_propietario = [\"Martín\", \"Santomé\", 89756312, 3182117652, \"Carrera 80 A # 75 - 43\", \"Barranquilla\"]\n",
        "\n",
        "#Mostrar en pantalla el contenido de la lista\n",
        "print(\"El contenido de la lista es: \", datos_propietario)\n",
        "\n",
        "#mostrar en pantalla el nombre (se encuentra en la posición 0 de la lista)\n",
        "print(\"El nombre es: \", datos_propietario[0])\n",
        "\n",
        "#Mostrar en pantalla la dirección (se encuentra en la posición 4 de la lista)\n",
        "print(\"La dirección es: \", datos_propietario[4])"
      ],
      "metadata": {
        "colab": {
          "base_uri": "https://localhost:8080/"
        },
        "id": "13E35UtVnyg-",
        "outputId": "7456fdc3-3934-466e-c3ed-6b1a4ba263b3"
      },
      "execution_count": null,
      "outputs": [
        {
          "output_type": "stream",
          "name": "stdout",
          "text": [
            "El contenido de la lista es:  ['Martín', 'Santomé', 89756312, 3182117652, 'Carrera 80 A # 75 - 43', 'Barranquilla']\n",
            "El nombre es:  Martín\n",
            "La dirección es:  Carrera 80 A # 75 - 43\n"
          ]
        }
      ]
    },
    {
      "cell_type": "markdown",
      "source": [
        "Operaciones Basicas con Listas"
      ],
      "metadata": {
        "id": "ZeM_FWIapAWT"
      }
    },
    {
      "cell_type": "code",
      "source": [
        "#programa que ilustra algunas operaiones báscas con listas\n",
        "\n",
        "#cracion de dos listas y asigacion de las listas\n",
        "ejLista1 = [\"Abdulrazak \", \"Gurnah\" \"Tanzania\", 1948, \"20 de diciembre\"]\n",
        "ejLista2 = [\"Paraíso\", 1961,]\n",
        "\n",
        "#mostrar en pantalla el contenido de las listas\n",
        "print(\"El contenido de la ejLista1 es: \", ejLista1)\n",
        "print(\"El contenido de la ejLista2 es: \", ejLista2)\n",
        "\n",
        "#agregar un elemento al final de una lista\n",
        "ejLista1 = ejLista1 + [\"Premio Nobel Literatura 2021\"]\n",
        "\n",
        "#Mostrar en pantalla el ontenido de la ejLista1 modificada\n",
        "print(\"El nuevo contenido de la ejLista1 después de haber agregado un elemento al final es: \", ejLista1)\n",
        "\n",
        "#Crear una lista y conectar en ella otras listas\n",
        "ejLista3 = ejLista1 + ejLista2\n",
        "\n",
        "#Mostrar en pantalla el contenido de la lista concatenada\n",
        "print(\"El condenido de la ejLista3 es: \", ejLista3)\n",
        "\n",
        "#Mostrar en pantalla el contenido de la ejLista3 a partir del tercer elemento ( se encuentra en la posicion 2)\n",
        "print(\"El contenido de la ejLista3 a partir del tercer elemento es: \", ejLista3[2:])\n"
      ],
      "metadata": {
        "colab": {
          "base_uri": "https://localhost:8080/"
        },
        "id": "xnpE4Qy7t0Wl",
        "outputId": "c7433df5-7843-4c31-c6c1-d4950f7291cf"
      },
      "execution_count": null,
      "outputs": [
        {
          "output_type": "stream",
          "name": "stdout",
          "text": [
            "El contenido de la ejLista1 es:  ['Abdulrazak ', 'GurnahTanzania', 1948, '20 de diciembre']\n",
            "El contenido de la ejLista2 es:  ['Paraíso', 1961]\n",
            "El nuevo contenido de la ejLista1 después de haber agregado un elemento al final es:  ['Abdulrazak ', 'GurnahTanzania', 1948, '20 de diciembre', 'Premio Nobel Literatura 2021']\n",
            "El condenido de la ejLista3 es:  ['Abdulrazak ', 'GurnahTanzania', 1948, '20 de diciembre', 'Premio Nobel Literatura 2021', 'Paraíso', 1961]\n",
            "El contenido de la ejLista3 a partir del tercer elemento es:  [1948, '20 de diciembre', 'Premio Nobel Literatura 2021', 'Paraíso', 1961]\n"
          ]
        }
      ]
    },
    {
      "cell_type": "markdown",
      "source": [
        "Diccionarios"
      ],
      "metadata": {
        "id": "qDHOtKCnwRKu"
      }
    },
    {
      "cell_type": "code",
      "source": [
        "#Programa para crear un diccionario y muestra su contenido\n",
        "\n",
        "#creacion del diccionario y asignación del contenido\n",
        "dic_nobel = {\"nombre\": \"Abdulzarak\", \"apellido\": \"Gurnah\", \"nacimiento\": 1948, \"nobel\": 2021}\n",
        "\n",
        "#mostar en pantalla el contenido del diccionario\n",
        "print(\"El contenido del diccionario es: \", dic_nobel)\n",
        "\n",
        "#mostrar en pantalla el nombre del autor (se utiliza la clave \"nombre\")\n",
        "print(\"El nombre del autor es: \", dic_nobel[\"nombre\"])\n",
        "\n",
        "#mostrar en pantalla la información completa del estudiante\n",
        "print(dic_nobel[\"nombre\"], dic_nobel[\"apellido\"], \"nació en \", dic_nobel[\"nacimiento\"],\n",
        "      \"y recibió el premio nobel en \", dic_nobel[\"nobel\"])"
      ],
      "metadata": {
        "colab": {
          "base_uri": "https://localhost:8080/"
        },
        "id": "7NxVUnH1wSkB",
        "outputId": "b44eaad8-b8d6-4632-9443-447ca3af360b"
      },
      "execution_count": null,
      "outputs": [
        {
          "output_type": "stream",
          "name": "stdout",
          "text": [
            "El contenido del diccionario es:  {'nombre': 'Abdulzarak', 'apellido': 'Gurnah', 'nacimiento': 1948, 'nobel': 2021}\n",
            "El nombre del autor es:  Abdulzarak\n",
            "Abdulzarak Gurnah nació en  1948 y recibió el premio nobel en  2021\n"
          ]
        }
      ]
    },
    {
      "cell_type": "markdown",
      "source": [
        "Control de flujo (condicionales)"
      ],
      "metadata": {
        "id": "-rdZH7lF2ve9"
      }
    },
    {
      "cell_type": "code",
      "source": [
        "#programa con un condicional simple\n",
        "\n",
        "#crear una variable y asignar un valor\n",
        "variable1 = 4\n",
        "\n",
        "#evaluar la condición\n",
        "if variable1 < 5:\n",
        "  print(\"El valor de la variable1 es menor que cinco.\")\n",
        "\n",
        "# la siguiente instruccion se ejecuta para cualquier valor de variable1\n",
        "print(\"Trabajo terminado.\")"
      ],
      "metadata": {
        "colab": {
          "base_uri": "https://localhost:8080/"
        },
        "id": "ce0xhAVh3BBz",
        "outputId": "59cbdbd3-0d6a-4119-d3e6-60f5d1506155"
      },
      "execution_count": null,
      "outputs": [
        {
          "output_type": "stream",
          "name": "stdout",
          "text": [
            "El valor de la variable1 es menor que cinco.\n",
            "Trabajo terminado.\n"
          ]
        }
      ]
    },
    {
      "cell_type": "code",
      "source": [
        "# programa con condicional compuesto\n",
        "\n",
        "#crear una variable y asignar un valor\n",
        "variable2 = 5\n",
        "\n",
        "if variable2 < 5:\n",
        "  print(\"El valor de variable2 es menor que cinco.\")\n",
        "else:\n",
        "  print(\"El valor de variable2 es mayor que cinco.\")\n",
        "\n",
        "#la siguiente instruccion se ejecuta para cualquier valor de la variable2\n",
        "print(\"Trabajo terminado.\")"
      ],
      "metadata": {
        "colab": {
          "base_uri": "https://localhost:8080/"
        },
        "id": "ZP_tQvHa3i9l",
        "outputId": "c94949d5-e6b2-4280-f648-9cbd0f25ba0f"
      },
      "execution_count": null,
      "outputs": [
        {
          "output_type": "stream",
          "name": "stdout",
          "text": [
            "El valor de variable2 es mayor que cinco.\n",
            "Trabajo terminado.\n"
          ]
        }
      ]
    },
    {
      "cell_type": "markdown",
      "source": [
        "Iteraciones"
      ],
      "metadata": {
        "id": "g5VpkoCR4Utc"
      }
    },
    {
      "cell_type": "code",
      "source": [
        "#Iteraciones definidas\n",
        "\n",
        "\n",
        "#programa que imprime una serie de numero por medio de la iteración definida\n",
        "for h in range(5):\n",
        "  print(h)\n"
      ],
      "metadata": {
        "colab": {
          "base_uri": "https://localhost:8080/"
        },
        "id": "C0H546md4WRJ",
        "outputId": "a2748b87-e3ee-4391-8b08-0a7402f5aa03"
      },
      "execution_count": null,
      "outputs": [
        {
          "output_type": "stream",
          "name": "stdout",
          "text": [
            "0\n",
            "1\n",
            "2\n",
            "3\n",
            "4\n"
          ]
        }
      ]
    },
    {
      "cell_type": "code",
      "source": [
        "#Iteraciones definidas\n",
        "\n",
        "\n",
        "#programa que imprime el ontenido de una lista por medio de una iteración definida\n",
        "listaEj = [1, \"a\", 3.0, True, \"Lo mejor de mi día es programar un computador\"]\n",
        "\n",
        "for m in listaEj:\n",
        "  print(m)"
      ],
      "metadata": {
        "colab": {
          "base_uri": "https://localhost:8080/"
        },
        "id": "qd9ODW-74m-l",
        "outputId": "79d83fd9-9057-4c89-abe4-90c20bd81de2"
      },
      "execution_count": null,
      "outputs": [
        {
          "output_type": "stream",
          "name": "stdout",
          "text": [
            "1\n",
            "a\n",
            "3.0\n",
            "True\n",
            "Lo mejor de mi día es programar un computador\n"
          ]
        }
      ]
    },
    {
      "cell_type": "code",
      "source": [
        "#Iteraciones indefinidas\n",
        "\n",
        "\n",
        "#programa que imprimeuna serie de números por medio de una\n",
        "#iteracion indefinida\n",
        "\n",
        "contador = 0\n",
        "while contador < 8:\n",
        "  print(\"El valor del contador es: \", contador)\n",
        "  contador = contador + 1"
      ],
      "metadata": {
        "colab": {
          "base_uri": "https://localhost:8080/"
        },
        "id": "6cs1xyDP5Myj",
        "outputId": "9b6f3a2d-c726-4986-d9a2-82e3780e894f"
      },
      "execution_count": null,
      "outputs": [
        {
          "output_type": "stream",
          "name": "stdout",
          "text": [
            "El valor del contador es:  0\n",
            "El valor del contador es:  1\n",
            "El valor del contador es:  2\n",
            "El valor del contador es:  3\n",
            "El valor del contador es:  4\n",
            "El valor del contador es:  5\n",
            "El valor del contador es:  6\n",
            "El valor del contador es:  7\n"
          ]
        }
      ]
    },
    {
      "cell_type": "markdown",
      "source": [
        "Funciones"
      ],
      "metadata": {
        "id": "rT9W3MPP5sU2"
      }
    },
    {
      "cell_type": "markdown",
      "source": [
        "Funciones \"estériles\""
      ],
      "metadata": {
        "id": "1G8GapRd5tzY"
      }
    },
    {
      "cell_type": "code",
      "source": [
        "#programa que define e invoca una función \"estéril\"\n",
        "\n",
        "#creacion de una función\n",
        "def imprime(c):\n",
        "  '''Funcion que imprime un valor'''\n",
        "  print(c)\n",
        "\n",
        "#invocar la funcion con un texto\n",
        "imprime(\"Toro ese llanto por nara\")\n",
        "\n",
        "a = 5\n",
        "b = 3\n",
        "\n",
        "#invocar la función con una operaición\n",
        "imprime(a+b)\n",
        "\n",
        "imprime(a*b)\n",
        "\n",
        "#la funcion help permite conocer el contenido de un objeto en python\n",
        "help(imprime)"
      ],
      "metadata": {
        "colab": {
          "base_uri": "https://localhost:8080/"
        },
        "id": "EcGIUVad5wv6",
        "outputId": "60b0a107-7086-4f7e-ccc7-66cb3f60cae8"
      },
      "execution_count": null,
      "outputs": [
        {
          "output_type": "stream",
          "name": "stdout",
          "text": [
            "Toro ese llanto por nara\n",
            "8\n",
            "15\n",
            "Help on function imprime in module __main__:\n",
            "\n",
            "imprime(c)\n",
            "    Funcion que imprime un valor\n",
            "\n"
          ]
        }
      ]
    },
    {
      "cell_type": "markdown",
      "source": [
        "Funciones \"fértiles\""
      ],
      "metadata": {
        "id": "_j9cZM1q6ose"
      }
    },
    {
      "cell_type": "code",
      "source": [
        "#programa que define e invoca una fución \"fértil\"\n",
        "\n",
        "def areaCua(lado):\n",
        "  '''función que eleva un argumento al cuadrado y devuelve su valor'''\n",
        "  ac = lado**2\n",
        "  return ac\n",
        "\n",
        "#invoca la función areaCua y guardael valor en una variable\n",
        "areaCuadrado = areaCua(6)\n",
        "print(\"El área del cuadrado es: \", areaCuadrado)\n",
        "\n",
        "#la función help permite conocer el contenido de un objeto en Python\n",
        "help(areaCua)"
      ],
      "metadata": {
        "colab": {
          "base_uri": "https://localhost:8080/"
        },
        "id": "kT2L4eON6tO5",
        "outputId": "129be6c1-0b04-4fe8-b679-1833ecd7fce2"
      },
      "execution_count": null,
      "outputs": [
        {
          "output_type": "stream",
          "name": "stdout",
          "text": [
            "El área del cuadrado es:  36\n",
            "Help on function areaCua in module __main__:\n",
            "\n",
            "areaCua(lado)\n",
            "    función que eleva un argumento al cuadrado y devuelve su valor\n",
            "\n"
          ]
        }
      ]
    },
    {
      "cell_type": "code",
      "source": [
        "#Programa que define e invoca una función \"fértil\"\n",
        "\n",
        "def tusDatos():\n",
        "  datos = []\n",
        "  name = input(\"Por favor ingresa tu nombre: \")\n",
        "  datos.append(name)\n",
        "  carrera = input(\"Por favor ingresa tu programa curricular: \")\n",
        "  datos.append(carrera)\n",
        "  return datos\n",
        "\n",
        "m = tusDatos()\n",
        "\n",
        "print(m)\n",
        "\n",
        "print(\"Hola, \"+m[0]+\".\", \"¡Felicitaciones!\", m[1], \"es un excelente programa.\")"
      ],
      "metadata": {
        "colab": {
          "base_uri": "https://localhost:8080/"
        },
        "id": "W7T0uf2l7rp9",
        "outputId": "87ebc49e-5a42-4d42-b535-e79eed152a33"
      },
      "execution_count": null,
      "outputs": [
        {
          "output_type": "stream",
          "name": "stdout",
          "text": [
            "Por favor ingresa tu nombre: Rafa\n",
            "Por favor ingresa tu programa curricular: indus\n",
            "['Rafa', 'indus']\n",
            "Hola, Rafa. ¡Felicitaciones! indus es un excelente programa.\n"
          ]
        }
      ]
    },
    {
      "cell_type": "markdown",
      "source": [
        "Archivos y buenas prácticas de programación"
      ],
      "metadata": {
        "id": "gUnD_cyv82VX"
      }
    },
    {
      "cell_type": "markdown",
      "source": [
        "Manejo de errores"
      ],
      "metadata": {
        "id": "bDEMw2jr87Pa"
      }
    },
    {
      "cell_type": "code",
      "source": [
        "#Programa que suspende su ejecución porque se presentan un error\n",
        "\n",
        "numeroA = \"hola\"\n",
        "\n",
        "respuesta = numeroA ** 2\n",
        "\n",
        "print(respuesta)\n",
        "\n",
        "print(\"Conserve la calma. Todo funciona bien.\")"
      ],
      "metadata": {
        "colab": {
          "base_uri": "https://localhost:8080/",
          "height": 245
        },
        "id": "mKbBoTil899d",
        "outputId": "f5b4d299-80f7-4be4-85f9-2ebe51ee3afe"
      },
      "execution_count": null,
      "outputs": [
        {
          "output_type": "error",
          "ename": "TypeError",
          "evalue": "ignored",
          "traceback": [
            "\u001b[0;31m---------------------------------------------------------------------------\u001b[0m",
            "\u001b[0;31mTypeError\u001b[0m                                 Traceback (most recent call last)",
            "\u001b[0;32m<ipython-input-27-b3bd2e431c9e>\u001b[0m in \u001b[0;36m<cell line: 5>\u001b[0;34m()\u001b[0m\n\u001b[1;32m      3\u001b[0m \u001b[0mnumeroA\u001b[0m \u001b[0;34m=\u001b[0m \u001b[0;34m\"hola\"\u001b[0m\u001b[0;34m\u001b[0m\u001b[0;34m\u001b[0m\u001b[0m\n\u001b[1;32m      4\u001b[0m \u001b[0;34m\u001b[0m\u001b[0m\n\u001b[0;32m----> 5\u001b[0;31m \u001b[0mrespuesta\u001b[0m \u001b[0;34m=\u001b[0m \u001b[0mnumeroA\u001b[0m \u001b[0;34m**\u001b[0m \u001b[0;36m2\u001b[0m\u001b[0;34m\u001b[0m\u001b[0;34m\u001b[0m\u001b[0m\n\u001b[0m\u001b[1;32m      6\u001b[0m \u001b[0;34m\u001b[0m\u001b[0m\n\u001b[1;32m      7\u001b[0m \u001b[0mprint\u001b[0m\u001b[0;34m(\u001b[0m\u001b[0mrespuesta\u001b[0m\u001b[0;34m)\u001b[0m\u001b[0;34m\u001b[0m\u001b[0;34m\u001b[0m\u001b[0m\n",
            "\u001b[0;31mTypeError\u001b[0m: unsupported operand type(s) for ** or pow(): 'str' and 'int'"
          ]
        }
      ]
    },
    {
      "cell_type": "code",
      "source": [
        "# Programa que gestiona un error de ejecución por medio de la instruccion try//except\n",
        "\n",
        "try:\n",
        "  numeroA = numeroA **2\n",
        "  print(respuesta)\n",
        "\n",
        "except:\n",
        "  print(\"Tenemos problemas. Es hora de revisar el código.\")\n",
        "\n",
        "print(\"Conserva la calma. Todo funciona bien.\")"
      ],
      "metadata": {
        "colab": {
          "base_uri": "https://localhost:8080/"
        },
        "id": "Ll3M_3ef9S3s",
        "outputId": "910b1f42-f937-4b53-9e7d-892ff49206a4"
      },
      "execution_count": null,
      "outputs": [
        {
          "output_type": "stream",
          "name": "stdout",
          "text": [
            "Tenemos problemas. Es hora de revisar el código.\n",
            "Conserva la calma. Todo funciona bien.\n"
          ]
        }
      ]
    },
    {
      "cell_type": "markdown",
      "source": [
        "Importar archivos\n"
      ],
      "metadata": {
        "id": "uHCBaczs-O3G"
      }
    },
    {
      "cell_type": "code",
      "source": [
        "#programa que importa un archivo y usa sus funciones dentro de otro programa\n",
        "\n",
        "import misprimerasfunciones as mpf\n",
        "\n",
        "#funciones \"estériles\" importadas\n",
        "mpf.imprime(\"Toro ese llanto por nara\")\n",
        "\n",
        "a = 5\n",
        "b = 3\n",
        "mpf.imprime(a+b)\n",
        "\n",
        "mpf.imprime(a*b)\n",
        "\n",
        "#funcions \"fértiles\" importadas\n",
        "areaCuadrado = mpf.areaCua(8)\n",
        "\n",
        "print(\"El área del cuadrado es:\", areaCuadrado)\n",
        "\n",
        "m = mpf.tusDatos()\n",
        "\n",
        "print(m)\n",
        "\n",
        "print(\"Hola,\"+m[0]+\".\", \"¡Felicitaciones!\", m[1], \"es un excelente programa.\")"
      ],
      "metadata": {
        "colab": {
          "base_uri": "https://localhost:8080/",
          "height": 383
        },
        "id": "O6fAW_WO-TtH",
        "outputId": "091dab00-3777-455f-d6bd-946340761ddd"
      },
      "execution_count": null,
      "outputs": [
        {
          "output_type": "error",
          "ename": "ModuleNotFoundError",
          "evalue": "ignored",
          "traceback": [
            "\u001b[0;31m---------------------------------------------------------------------------\u001b[0m",
            "\u001b[0;31mModuleNotFoundError\u001b[0m                       Traceback (most recent call last)",
            "\u001b[0;32m<ipython-input-29-e1d7ee508d23>\u001b[0m in \u001b[0;36m<cell line: 3>\u001b[0;34m()\u001b[0m\n\u001b[1;32m      1\u001b[0m \u001b[0;31m#programa que importa un archivo y usa sus funciones dentro de otro programa\u001b[0m\u001b[0;34m\u001b[0m\u001b[0;34m\u001b[0m\u001b[0m\n\u001b[1;32m      2\u001b[0m \u001b[0;34m\u001b[0m\u001b[0m\n\u001b[0;32m----> 3\u001b[0;31m \u001b[0;32mimport\u001b[0m \u001b[0mmisprimerasfunciones\u001b[0m \u001b[0;32mas\u001b[0m \u001b[0mmpf\u001b[0m\u001b[0;34m\u001b[0m\u001b[0;34m\u001b[0m\u001b[0m\n\u001b[0m\u001b[1;32m      4\u001b[0m \u001b[0;34m\u001b[0m\u001b[0m\n\u001b[1;32m      5\u001b[0m \u001b[0;31m#funciones \"estériles\" importadas\u001b[0m\u001b[0;34m\u001b[0m\u001b[0;34m\u001b[0m\u001b[0m\n",
            "\u001b[0;31mModuleNotFoundError\u001b[0m: No module named 'misprimerasfunciones'",
            "",
            "\u001b[0;31m---------------------------------------------------------------------------\u001b[0;32m\nNOTE: If your import is failing due to a missing package, you can\nmanually install dependencies using either !pip or !apt.\n\nTo view examples of installing some common dependencies, click the\n\"Open Examples\" button below.\n\u001b[0;31m---------------------------------------------------------------------------\u001b[0m\n"
          ],
          "errorDetails": {
            "actions": [
              {
                "action": "open_url",
                "actionText": "Open Examples",
                "url": "/notebooks/snippets/importing_libraries.ipynb"
              }
            ]
          }
        }
      ]
    }
  ]
}